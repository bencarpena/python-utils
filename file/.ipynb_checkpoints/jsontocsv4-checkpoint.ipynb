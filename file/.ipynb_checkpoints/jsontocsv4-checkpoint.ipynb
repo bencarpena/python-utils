{
 "cells": [
  {
   "cell_type": "code",
   "execution_count": 5,
   "metadata": {},
   "outputs": [
    {
     "data": {
      "text/html": [
       "<div>\n",
       "<style scoped>\n",
       "    .dataframe tbody tr th:only-of-type {\n",
       "        vertical-align: middle;\n",
       "    }\n",
       "\n",
       "    .dataframe tbody tr th {\n",
       "        vertical-align: top;\n",
       "    }\n",
       "\n",
       "    .dataframe thead th {\n",
       "        text-align: right;\n",
       "    }\n",
       "</style>\n",
       "<table border=\"1\" class=\"dataframe\">\n",
       "  <thead>\n",
       "    <tr style=\"text-align: right;\">\n",
       "      <th></th>\n",
       "      <th>@odata.context</th>\n",
       "      <th>id</th>\n",
       "      <th>userId</th>\n",
       "      <th>deviceName</th>\n",
       "      <th>managedDeviceOwnerType</th>\n",
       "      <th>enrolledDateTime</th>\n",
       "      <th>lastSyncDateTime</th>\n",
       "      <th>operatingSystem</th>\n",
       "      <th>complianceState</th>\n",
       "      <th>jailBroken</th>\n",
       "      <th>...</th>\n",
       "      <th>configurationManagerClientEnabledFeatures</th>\n",
       "      <th>wiFiMacAddress</th>\n",
       "      <th>deviceHealthAttestationState</th>\n",
       "      <th>subscriberCarrier</th>\n",
       "      <th>meid</th>\n",
       "      <th>totalStorageSpaceInBytes</th>\n",
       "      <th>freeStorageSpaceInBytes</th>\n",
       "      <th>managedDeviceName</th>\n",
       "      <th>partnerReportedThreatState</th>\n",
       "      <th>deviceActionResults</th>\n",
       "    </tr>\n",
       "  </thead>\n",
       "  <tbody>\n",
       "  </tbody>\n",
       "</table>\n",
       "<p>0 rows × 48 columns</p>\n",
       "</div>"
      ],
      "text/plain": [
       "Empty DataFrame\n",
       "Columns: [@odata.context, id, userId, deviceName, managedDeviceOwnerType, enrolledDateTime, lastSyncDateTime, operatingSystem, complianceState, jailBroken, managementAgent, osVersion, easActivated, easDeviceId, easActivationDateTime, azureADRegistered, deviceEnrollmentType, activationLockBypassCode, emailAddress, azureADDeviceId, deviceRegistrationState, deviceCategoryDisplayName, isSupervised, exchangeLastSuccessfulSyncDateTime, exchangeAccessState, exchangeAccessStateReason, remoteAssistanceSessionUrl, remoteAssistanceSessionErrorDetails, isEncrypted, userPrincipalName, model, manufacturer, imei, complianceGracePeriodExpirationDateTime, serialNumber, phoneNumber, androidSecurityPatchLevel, userDisplayName, configurationManagerClientEnabledFeatures, wiFiMacAddress, deviceHealthAttestationState, subscriberCarrier, meid, totalStorageSpaceInBytes, freeStorageSpaceInBytes, managedDeviceName, partnerReportedThreatState, deviceActionResults]\n",
       "Index: []\n",
       "\n",
       "[0 rows x 48 columns]"
      ]
     },
     "execution_count": 5,
     "metadata": {},
     "output_type": "execute_result"
    }
   ],
   "source": [
    "import pandas as pd\n",
    "\n",
    "df = pd.read_json (r'asia_gdp.json')\n",
    "df.to_csv (r'graph-out3.csv', index = False)\n",
    "\n",
    "pd.read_json(r'graph-out2.json').head()"
   ]
  },
  {
   "cell_type": "code",
   "execution_count": 6,
   "metadata": {},
   "outputs": [
    {
     "data": {
      "text/html": [
       "<div>\n",
       "<style scoped>\n",
       "    .dataframe tbody tr th:only-of-type {\n",
       "        vertical-align: middle;\n",
       "    }\n",
       "\n",
       "    .dataframe tbody tr th {\n",
       "        vertical-align: top;\n",
       "    }\n",
       "\n",
       "    .dataframe thead th {\n",
       "        text-align: right;\n",
       "    }\n",
       "</style>\n",
       "<table border=\"1\" class=\"dataframe\">\n",
       "  <thead>\n",
       "    <tr style=\"text-align: right;\">\n",
       "      <th></th>\n",
       "      <th>Country Name</th>\n",
       "      <th>Indicator Name</th>\n",
       "      <th>2013</th>\n",
       "      <th>2014</th>\n",
       "      <th>2015</th>\n",
       "      <th>2016</th>\n",
       "      <th>2017</th>\n",
       "      <th>2018</th>\n",
       "      <th>2019</th>\n",
       "      <th>2020</th>\n",
       "      <th>2021</th>\n",
       "    </tr>\n",
       "  </thead>\n",
       "  <tbody>\n",
       "    <tr>\n",
       "      <th>0</th>\n",
       "      <td>China, P.R.: Macao</td>\n",
       "      <td>National Accounts, Gross Domestic Product, Rea...</td>\n",
       "      <td>11.200613</td>\n",
       "      <td>-0.852108</td>\n",
       "      <td>-20.348742</td>\n",
       "      <td>-4.748693</td>\n",
       "      <td>0.238774</td>\n",
       "      <td>0.410595</td>\n",
       "      <td>1.087283</td>\n",
       "      <td>1.942966</td>\n",
       "      <td>2.583094</td>\n",
       "    </tr>\n",
       "    <tr>\n",
       "      <th>1</th>\n",
       "      <td>Mongolia</td>\n",
       "      <td>National Accounts, Gross Domestic Product, Rea...</td>\n",
       "      <td>11.648916</td>\n",
       "      <td>7.885225</td>\n",
       "      <td>2.357171</td>\n",
       "      <td>0.041472</td>\n",
       "      <td>0.976369</td>\n",
       "      <td>3.466654</td>\n",
       "      <td>5.129723</td>\n",
       "      <td>8.574178</td>\n",
       "      <td>5.467369</td>\n",
       "    </tr>\n",
       "    <tr>\n",
       "      <th>2</th>\n",
       "      <td>Vanuatu</td>\n",
       "      <td>National Accounts, Gross Domestic Product, Rea...</td>\n",
       "      <td>1.969146</td>\n",
       "      <td>2.330436</td>\n",
       "      <td>-0.800000</td>\n",
       "      <td>4.000000</td>\n",
       "      <td>4.500000</td>\n",
       "      <td>4.000000</td>\n",
       "      <td>3.500000</td>\n",
       "      <td>3.000000</td>\n",
       "      <td>3.000000</td>\n",
       "    </tr>\n",
       "    <tr>\n",
       "      <th>3</th>\n",
       "      <td>Tuvalu</td>\n",
       "      <td>National Accounts, Gross Domestic Product, Rea...</td>\n",
       "      <td>1.292326</td>\n",
       "      <td>2.236107</td>\n",
       "      <td>2.642014</td>\n",
       "      <td>3.951913</td>\n",
       "      <td>2.267878</td>\n",
       "      <td>2.335117</td>\n",
       "      <td>2.216674</td>\n",
       "      <td>2.021799</td>\n",
       "      <td>2.070993</td>\n",
       "    </tr>\n",
       "    <tr>\n",
       "      <th>4</th>\n",
       "      <td>Tonga</td>\n",
       "      <td>National Accounts, Gross Domestic Product, Rea...</td>\n",
       "      <td>-0.565545</td>\n",
       "      <td>2.896921</td>\n",
       "      <td>3.411636</td>\n",
       "      <td>2.726308</td>\n",
       "      <td>2.440974</td>\n",
       "      <td>2.708005</td>\n",
       "      <td>2.303733</td>\n",
       "      <td>1.773982</td>\n",
       "      <td>1.784196</td>\n",
       "    </tr>\n",
       "  </tbody>\n",
       "</table>\n",
       "</div>"
      ],
      "text/plain": [
       "         Country Name                                     Indicator Name  \\\n",
       "0  China, P.R.: Macao  National Accounts, Gross Domestic Product, Rea...   \n",
       "1            Mongolia  National Accounts, Gross Domestic Product, Rea...   \n",
       "2             Vanuatu  National Accounts, Gross Domestic Product, Rea...   \n",
       "3              Tuvalu  National Accounts, Gross Domestic Product, Rea...   \n",
       "4               Tonga  National Accounts, Gross Domestic Product, Rea...   \n",
       "\n",
       "        2013      2014       2015      2016      2017      2018      2019  \\\n",
       "0  11.200613 -0.852108 -20.348742 -4.748693  0.238774  0.410595  1.087283   \n",
       "1  11.648916  7.885225   2.357171  0.041472  0.976369  3.466654  5.129723   \n",
       "2   1.969146  2.330436  -0.800000  4.000000  4.500000  4.000000  3.500000   \n",
       "3   1.292326  2.236107   2.642014  3.951913  2.267878  2.335117  2.216674   \n",
       "4  -0.565545  2.896921   3.411636  2.726308  2.440974  2.708005  2.303733   \n",
       "\n",
       "       2020      2021  \n",
       "0  1.942966  2.583094  \n",
       "1  8.574178  5.467369  \n",
       "2  3.000000  3.000000  \n",
       "3  2.021799  2.070993  \n",
       "4  1.773982  1.784196  "
      ]
     },
     "execution_count": 6,
     "metadata": {},
     "output_type": "execute_result"
    }
   ],
   "source": [
    "pd.read_json(r'asia_gdp.json').head()"
   ]
  },
  {
   "cell_type": "code",
   "execution_count": 7,
   "metadata": {},
   "outputs": [
    {
     "data": {
      "text/html": [
       "<div>\n",
       "<style scoped>\n",
       "    .dataframe tbody tr th:only-of-type {\n",
       "        vertical-align: middle;\n",
       "    }\n",
       "\n",
       "    .dataframe tbody tr th {\n",
       "        vertical-align: top;\n",
       "    }\n",
       "\n",
       "    .dataframe thead th {\n",
       "        text-align: right;\n",
       "    }\n",
       "</style>\n",
       "<table border=\"1\" class=\"dataframe\">\n",
       "  <thead>\n",
       "    <tr style=\"text-align: right;\">\n",
       "      <th></th>\n",
       "      <th>Intune Details</th>\n",
       "    </tr>\n",
       "  </thead>\n",
       "  <tbody>\n",
       "    <tr>\n",
       "      <th>@odata.context</th>\n",
       "      <td>https://graph.microsoft.com/beta/$metadata#dev...</td>\n",
       "    </tr>\n",
       "    <tr>\n",
       "      <th>aadRegistered</th>\n",
       "      <td>True</td>\n",
       "    </tr>\n",
       "    <tr>\n",
       "      <th>activationLockBypassCode</th>\n",
       "      <td>None</td>\n",
       "    </tr>\n",
       "    <tr>\n",
       "      <th>androidSecurityPatchLevel</th>\n",
       "      <td>None</td>\n",
       "    </tr>\n",
       "    <tr>\n",
       "      <th>autopilotEnrolled</th>\n",
       "      <td>False</td>\n",
       "    </tr>\n",
       "  </tbody>\n",
       "</table>\n",
       "</div>"
      ],
      "text/plain": [
       "                                                              Intune Details\n",
       "@odata.context             https://graph.microsoft.com/beta/$metadata#dev...\n",
       "aadRegistered                                                           True\n",
       "activationLockBypassCode                                                None\n",
       "androidSecurityPatchLevel                                               None\n",
       "autopilotEnrolled                                                      False"
      ]
     },
     "execution_count": 7,
     "metadata": {},
     "output_type": "execute_result"
    }
   ],
   "source": [
    "#20200602 : Modified json file\n",
    "#====================================\n",
    "\n",
    "pd.read_json(r'graph-out4.json').head()"
   ]
  },
  {
   "cell_type": "code",
   "execution_count": 4,
   "metadata": {},
   "outputs": [
    {
     "name": "stdout",
     "output_type": "stream",
     "text": [
      "Country Name,Indicator Name,2013,2014,2015,2016,2017,2018,2019,2020,2021\r\n",
      "\"China, P.R.: Macao\",\"National Accounts, Gross Domestic Product, Real, Constant Prices, Percent Change\",11.20061279,-0.8521079680000001,-20.34874242,-4.748693225,0.23877415600000002,0.410595217,1.087283077,1.94296636,2.583093715\r\n",
      "Mongolia,\"National Accounts, Gross Domestic Product, Real, Constant Prices, Percent Change\",11.64891619,7.885225481,2.357171189,0.041471652000000005,0.97636868,3.466654065,5.129723428,8.574177658,5.467369048\r\n",
      "Vanuatu,\"National Accounts, Gross Domestic Product, Real, Constant Prices, Percent Change\",1.96914608,2.330436376,-0.8,4.0,4.5,4.0,3.5,3.0,3.0\r\n",
      "Tuvalu,\"National Accounts, Gross Domestic Product, Real, Constant Prices, Percent Change\",1.2923264620000001,2.236106813,2.642013713,3.951913367,2.267878331,2.335116729,2.216674225,2.021799219,2.070993406\r\n",
      "Tonga,\"National Accounts, Gross Domestic Product, Real, Constant Prices, Percent Change\",-0.565545018,2.896921266,3.411636443,2.726308314,2.440973959,2.708004667,2.303733313,1.773981682,1.784196318\r\n",
      "\"Timor-Leste, Dem. Rep. of\",\"National Accounts, Gross Domestic Product, Real, Constant Prices, Percent Change\",2.875695733,5.861136159,4.251,5.0,5.5,6.0,6.5,5.5,5.500342783\r\n",
      "Solomon Islands,\"National Accounts, Gross Domestic Product, Real, Constant Prices, Percent Change\",3.020456238,1.979384022,3.25,2.9991144910000003,3.270791031,3.00933265,2.995353088,2.998842276,3.240687579\r\n",
      "Samoa,\"National Accounts, Gross Domestic Product, Real, Constant Prices, Percent Change\",-1.9313251820000001,1.196146621,1.634775059,3.014977665,1.5090759,2.038807748,2.103983938,2.103983938,2.103983938\r\n",
      "Papua New Guinea,\"National Accounts, Gross Domestic Product, Real, Constant Prices, Percent Change\",4.734803832,7.352608126,6.619787527,2.540932916,2.953125928,2.486958021,3.371378589,3.38963245,3.415703156\r\n",
      "Palau,\"National Accounts, Gross Domestic Product, Real, Constant Prices, Percent Change\",-2.409274277,4.234079877,9.383689562,0.0,5.0,5.0,4.0,3.0,2.0\r\n",
      "\"Micronesia, Federated States of\",\"National Accounts, Gross Domestic Product, Real, Constant Prices, Percent Change\",-3.561518835,-3.402898057,-0.164921439,1.053562091,0.7224116380000001,0.718223468,0.824271178,0.48034527,0.6000000000000001\r\n",
      "\"Marshall Islands, Republic of\",\"National Accounts, Gross Domestic Product, Real, Constant Prices, Percent Change\",-1.073990088,0.39806297300000004,1.379068779,1.745163508,1.750031487,1.5996237500000001,1.550544686,1.336450028,1.3\r\n",
      "Maldives,\"National Accounts, Gross Domestic Product, Real, Constant Prices, Percent Change\",4.69770875,6.479384759,1.5152459390000002,3.008267047,4.059876043,4.715681647,4.722155313,4.779915699,4.724322714\r\n",
      "Kiribati,\"National Accounts, Gross Domestic Product, Real, Constant Prices, Percent Change\",5.782164323,2.408704811,3.496995189,3.074732931,2.478712751,2.014172282,1.487975497,1.689492397,1.815199618\r\n",
      "Fiji,\"National Accounts, Gross Domestic Product, Real, Constant Prices, Percent Change\",4.735557923,5.289234505,4.3,2.5,3.9,3.9,3.6,3.6,3.6\r\n",
      "Bhutan,\"National Accounts, Gross Domestic Product, Real, Constant Prices, Percent Change\",3.5704753140000003,3.818127122,5.213714102,6.028486239,6.408630329,11.34265762,13.87697543,8.50152687,5.231192867\r\n",
      "Vietnam,\"National Accounts, Gross Domestic Product, Real, Constant Prices, Percent Change\",5.421873799,5.983634849,6.67930813,6.1,6.2,6.2,6.2,6.2,6.2\r\n",
      "Thailand,\"National Accounts, Gross Domestic Product, Real, Constant Prices, Percent Change\",2.70211729,0.8176331020000001,2.819683122,3.234097168,3.273706483,3.097167164,3.033919066,3.033919066,3.033919066\r\n",
      "Singapore,\"National Accounts, Gross Domestic Product, Real, Constant Prices, Percent Change\",4.675248276,3.260046591,2.008348373,1.69466882,2.229646936,2.641678561,2.635425212,2.635425212,2.635425212\r\n",
      "Philippines,\"National Accounts, Gross Domestic Product, Real, Constant Prices, Percent Change\",7.064009888,6.216544794,5.90691837,6.40000064,6.69674346,6.8,6.9,7.0,7.0\r\n",
      "Myanmar,\"National Accounts, Gross Domestic Product, Real, Constant Prices, Percent Change\",8.427677575,8.699746636,7.030816998,8.072204726,7.6961041770000005,7.7500672470000005,7.622153309,7.651543853,7.659390693\r\n",
      "Malaysia,\"National Accounts, Gross Domestic Product, Real, Constant Prices, Percent Change\",4.69372252,6.012690036,4.967674266,4.3,4.6,4.7,4.9,5.0,5.0\r\n",
      "Lao People's Democratic Republic,\"National Accounts, Gross Domestic Product, Real, Constant Prices, Percent Change\",7.967987411,7.500573808,7.55931228,7.478469027,7.263841028,7.304080233,7.212946543,7.082066837,7.097085136\r\n",
      "Indonesia,\"National Accounts, Gross Domestic Product, Real, Constant Prices, Percent Change\",5.557263689,5.023889052,4.793921304,4.935120756,5.300037236,5.500112732,5.799740428,6.000212453,6.000853183\r\n",
      "Cambodia,\"National Accounts, Gross Domestic Product, Real, Constant Prices, Percent Change\",7.427900099,7.071525352,7.036087179,6.991899377,6.9114062060000006,6.794893054,6.757324767,6.519123493,6.285017647\r\n",
      "Brunei Darussalam,\"National Accounts, Gross Domestic Product, Real, Constant Prices, Percent Change\",-2.124783186,-2.34864098,-0.55074411,0.376323803,3.947195729,1.7120297510000002,9.064160008,13.02862346,13.17115744\r\n",
      "ASEAN,\"National Accounts, Gross Domestic Product, Real, Constant Prices, Percent Change\",5.05899859,4.60358268,4.764492865,4.833352376,5.108379495,5.209726477,5.392987018,5.528551173,5.543085058\r\n",
      "Nepal,\"National Accounts, Gross Domestic Product, Real, Constant Prices, Percent Change\",4.128877676,5.988933368,2.725365459,0.5605890130000001,4.047930821,3.766571915,3.82004543,3.788579051,3.834026556\r\n",
      "Sri Lanka,\"National Accounts, Gross Domestic Product, Real, Constant Prices, Percent Change\",3.395722774,4.878640647,4.785933632,5.0,5.0,5.0,5.2,5.4,5.5\r\n",
      "India,\"National Accounts, Gross Domestic Product, Real, Constant Prices, Percent Change\",6.638755462,7.243509024,7.563387556,7.616677906,7.608115608,7.668814563,7.8275265560000005,7.955524586,8.122209587\r\n",
      "Bangladesh,\"National Accounts, Gross Domestic Product, Real, Constant Prices, Percent Change\",6.03803736,6.314085213,6.811657422,6.923036251,6.9032882010000005,7.0,7.0,6.741545894,6.5\r\n",
      "South Asia,\"National Accounts, Gross Domestic Product, Real, Constant Prices, Percent Change\",6.207929528,6.809899054,7.081902014,7.197007056,7.247304067,7.329195959,7.499186988,7.597139806,7.729264327\r\n",
      "Taiwan Province of China,\"National Accounts, Gross Domestic Product, Real, Constant Prices, Percent Change\",2.202440392,3.924934953,0.647897743,0.9720809810000001,1.664803851,1.934578815,2.249272252,2.544222024,2.743406726\r\n",
      "\"Korea, Republic of\",\"National Accounts, Gross Domestic Product, Real, Constant Prices, Percent Change\",2.896220054,3.341447519,2.611935409,2.720195585,3.038068414,3.059220538,3.007748199,2.998755143,2.982417041\r\n",
      "\"China, P.R.: Hong Kong\",\"National Accounts, Gross Domestic Product, Real, Constant Prices, Percent Change\",3.08804821,2.68193502,2.436791891,1.438521079,1.853713697,2.807975425,3.220050234,3.082651701,2.9376018960000003\r\n",
      "\"China, P.R.: Mainland\",\"National Accounts, Gross Domestic Product, Real, Constant Prices, Percent Change\",7.8,7.3,6.9,6.588139633,6.170586143,6.03,6.0,5.9,5.8\r\n",
      "New Zealand,\"National Accounts, Gross Domestic Product, Real, Constant Prices, Percent Change\",1.6800015570000002,3.021615102,2.998963952,2.76584073,2.706633215,2.592582276,2.494073845,2.539299322,2.5660141149999998\r\n",
      "Japan,\"National Accounts, Gross Domestic Product, Real, Constant Prices, Percent Change\",1.356736022,-0.027780887,0.5393498640000001,0.509566308,0.5626373060000001,0.45303758800000005,0.6758057080000001,0.11726004200000001,0.61279328\r\n",
      "Australia,\"National Accounts, Gross Domestic Product, Real, Constant Prices, Percent Change\",2.005601553,2.687196637,2.443814096,2.869979044,2.665295075,2.892838378,2.989949257,2.944193034,2.827654025\r\n",
      "Asia,\"National Accounts, Gross Domestic Product, Real, Constant Prices, Percent Change\",5.797520502,5.580187607,5.433416152,5.400475262,5.346727493,5.367463885,5.486507948,5.485341197,5.551937928\r\n"
     ]
    }
   ],
   "source": [
    "!cat graph-out3.csv"
   ]
  },
  {
   "cell_type": "code",
   "execution_count": null,
   "metadata": {},
   "outputs": [],
   "source": []
  },
  {
   "cell_type": "code",
   "execution_count": 102,
   "metadata": {},
   "outputs": [
    {
     "name": "stdout",
     "output_type": "stream",
     "text": [
      "{\"@odata.context\":\"https://graph.microsoft.com/v1.0/$metadata#deviceManagement/managedDevices/$entity\",\"id\":\"7767e52c-badd-4858-b043-182b21dd1ab8\",\"userId\":\"4f913b7e-8e46-438b-ac4d-7d445bff38e0\",\"deviceName\":\"HoloLens-EM12E\",\"managedDeviceOwnerType\":\"company\",\"enrolledDateTime\":\"2020-04-14T18:17:12.7901685Z\",\"lastSyncDateTime\":\"2020-06-02T20:45:24.770233Z\",\"operatingSystem\":\"Windows Holographic for Business\",\"complianceState\":\"compliant\",\"jailBroken\":\"Unknown\",\"managementAgent\":\"mdm\",\"osVersion\":\"10.0.17763.1217\",\"easActivated\":false,\"easDeviceId\":null,\"easActivationDateTime\":\"0001-01-01T00:00:00Z\",\"azureADRegistered\":true,\"deviceEnrollmentType\":\"windowsAzureADJoin\",\"activationLockBypassCode\":null,\"emailAddress\":\"hl-itc-mobility-007@chevron.com\",\"azureADDeviceId\":\"950319dc-074e-49e4-8d88-4e9751fc562c\",\"deviceRegistrationState\":\"registered\",\"deviceCategoryDisplayName\":\"CVX_MANAGED_WINDOWS\",\"isSupervised\":false,\"exchangeLastSuccessfulSyncDateTime\":\"0001-01-01T00:00:00Z\",\"exchangeAccessState\":\"none\",\"exchangeAccessStateReason\":\"none\",\"remoteAssistanceSessionUrl\":\"\",\"remoteAssistanceSessionErrorDetails\":\"\",\"isEncrypted\":true,\"userPrincipalName\":\"hl-itc-mobility-007@chevron.com\",\"model\":\"HoloLens\",\"manufacturer\":\"Microsoft Corporation\",\"imei\":null,\"complianceGracePeriodExpirationDateTime\":\"9999-12-31T23:59:59.9999999Z\",\"serialNumber\":\"000077771556\",\"phoneNumber\":null,\"androidSecurityPatchLevel\":null,\"userDisplayName\":\"Service Account - hl-itc-mobility-007\",\"configurationManagerClientEnabledFeatures\":null,\"wiFiMacAddress\":\"949AA91FF990\",\"deviceHealthAttestationState\":null,\"subscriberCarrier\":\"\",\"meid\":null,\"totalStorageSpaceInBytes\":-1890582528,\"freeStorageSpaceInBytes\":0,\"managedDeviceName\":\"hl-itc-mobility-007_WindowsHolographic_4/14/2020_6:17 PM\",\"partnerReportedThreatState\":\"unknown\",\"deviceActionResults\":[]}"
     ]
    }
   ],
   "source": [
    "!cat graph-out2.json"
   ]
  },
  {
   "cell_type": "code",
   "execution_count": 48,
   "metadata": {},
   "outputs": [
    {
     "data": {
      "text/html": [
       "<div>\n",
       "<style scoped>\n",
       "    .dataframe tbody tr th:only-of-type {\n",
       "        vertical-align: middle;\n",
       "    }\n",
       "\n",
       "    .dataframe tbody tr th {\n",
       "        vertical-align: top;\n",
       "    }\n",
       "\n",
       "    .dataframe thead th {\n",
       "        text-align: right;\n",
       "    }\n",
       "</style>\n",
       "<table border=\"1\" class=\"dataframe\">\n",
       "  <thead>\n",
       "    <tr style=\"text-align: right;\">\n",
       "      <th></th>\n",
       "      <th>@odata.context</th>\n",
       "      <th>id</th>\n",
       "      <th>userId</th>\n",
       "      <th>deviceName</th>\n",
       "      <th>managedDeviceOwnerType</th>\n",
       "      <th>enrolledDateTime</th>\n",
       "      <th>lastSyncDateTime</th>\n",
       "      <th>operatingSystem</th>\n",
       "      <th>complianceState</th>\n",
       "      <th>jailBroken</th>\n",
       "      <th>...</th>\n",
       "      <th>configurationManagerClientEnabledFeatures</th>\n",
       "      <th>wiFiMacAddress</th>\n",
       "      <th>deviceHealthAttestationState</th>\n",
       "      <th>subscriberCarrier</th>\n",
       "      <th>meid</th>\n",
       "      <th>totalStorageSpaceInBytes</th>\n",
       "      <th>freeStorageSpaceInBytes</th>\n",
       "      <th>managedDeviceName</th>\n",
       "      <th>partnerReportedThreatState</th>\n",
       "      <th>deviceActionResults</th>\n",
       "    </tr>\n",
       "  </thead>\n",
       "  <tbody>\n",
       "  </tbody>\n",
       "</table>\n",
       "<p>0 rows × 48 columns</p>\n",
       "</div>"
      ],
      "text/plain": [
       "Empty DataFrame\n",
       "Columns: [@odata.context, id, userId, deviceName, managedDeviceOwnerType, enrolledDateTime, lastSyncDateTime, operatingSystem, complianceState, jailBroken, managementAgent, osVersion, easActivated, easDeviceId, easActivationDateTime, azureADRegistered, deviceEnrollmentType, activationLockBypassCode, emailAddress, azureADDeviceId, deviceRegistrationState, deviceCategoryDisplayName, isSupervised, exchangeLastSuccessfulSyncDateTime, exchangeAccessState, exchangeAccessStateReason, remoteAssistanceSessionUrl, remoteAssistanceSessionErrorDetails, isEncrypted, userPrincipalName, model, manufacturer, imei, complianceGracePeriodExpirationDateTime, serialNumber, phoneNumber, androidSecurityPatchLevel, userDisplayName, configurationManagerClientEnabledFeatures, wiFiMacAddress, deviceHealthAttestationState, subscriberCarrier, meid, totalStorageSpaceInBytes, freeStorageSpaceInBytes, managedDeviceName, partnerReportedThreatState, deviceActionResults]\n",
       "Index: []\n",
       "\n",
       "[0 rows x 48 columns]"
      ]
     },
     "execution_count": 48,
     "metadata": {},
     "output_type": "execute_result"
    }
   ],
   "source": [
    "import json\n",
    "\n",
    "# first line of code: import the pandas module\n",
    "import pandas\n",
    "\n",
    "# generate a python dict list\n",
    "data= pd.read_json('graph-out2.json')\n",
    "\n",
    "df.head()\n",
    "\n",
    "\n",
    "# second line of code: convert the dict list to csv and save it into the file pandas.csv\n",
    "#pandas.read_json((r'graph-out2.json').to_csv('pandas.csv'))"
   ]
  },
  {
   "cell_type": "code",
   "execution_count": 55,
   "metadata": {},
   "outputs": [
    {
     "name": "stdout",
     "output_type": "stream",
     "text": [
      "{'userID': '679d3bad-155e-4b39-9ff7-7d564f408942', 'Is salary credited before 5th': 'Yes', 'Avg Salary of last 3 months': 15453.33, 'Avg Salary of last 6 months': 15290.5, 'Avg Balance before salary of last 3 months': 113.15, 'Avg Balance before salary of last 6 months': 105.22}\n"
     ]
    }
   ],
   "source": [
    "dct = {\"userID\": \"679d3bad-155e-4b39-9ff7-7d564f408942\", \"Is salary credited before 5th\": \"Yes\", \"Avg Salary of last 3 months\": 15453.33,\n",
    "       \"Avg Salary of last 6 months\": 15290.5, \"Avg Balance before salary of last 3 months\": 113.15, \"Avg Balance before salary of last 6 months\": 105.22}\n",
    "\n",
    "print (dct)\n",
    "import pandas as pd\n",
    "\n",
    "\n",
    "df = pd.DataFrame.from_records(dct, index=[0])\n",
    "\n",
    "df.to_csv('outputfile.csv')"
   ]
  },
  {
   "cell_type": "code",
   "execution_count": 52,
   "metadata": {},
   "outputs": [],
   "source": [
    "!rm outputfile.csv"
   ]
  },
  {
   "cell_type": "code",
   "execution_count": 98,
   "metadata": {},
   "outputs": [],
   "source": [
    "#THIS IS IT!!!\n",
    "##########################\n",
    "#https://stackoverflow.com/questions/54002058/how-to-convert-json-to-csv-in-python\n",
    "\n",
    "import json\n",
    "import pandas as pd\n",
    "\n",
    "with open('graph-out3.json') as f:\n",
    "  data = json.load(f)\n",
    "\n",
    "#print(data)\n",
    "\n",
    "\n",
    "df = pd.DataFrame.from_records(data)\n",
    "\n",
    "df.to_csv('outputfile.csv', index = None)\n",
    "\n",
    "#data.to_csv (r'Path where the new CSV file will be stored\\New File Name.csv', index = None)"
   ]
  },
  {
   "cell_type": "code",
   "execution_count": 99,
   "metadata": {},
   "outputs": [
    {
     "name": "stdout",
     "output_type": "stream",
     "text": [
      "@odata.context,activationLockBypassCode,androidSecurityPatchLevel,azureADDeviceId,azureADRegistered,complianceGracePeriodExpirationDateTime,complianceState,configurationManagerClientEnabledFeatures,deviceActionResults,deviceCategoryDisplayName,deviceEnrollmentType,deviceHealthAttestationState,deviceName,deviceRegistrationState,easActivated,easActivationDateTime,easDeviceId,emailAddress,enrolledDateTime,exchangeAccessState,exchangeAccessStateReason,exchangeLastSuccessfulSyncDateTime,freeStorageSpaceInBytes,id,imei,isEncrypted,isSupervised,jailBroken,lastSyncDateTime,managedDeviceName,managedDeviceOwnerType,managementAgent,manufacturer,meid,model,operatingSystem,osVersion,partnerReportedThreatState,phoneNumber,remoteAssistanceSessionErrorDetails,remoteAssistanceSessionUrl,serialNumber,subscriberCarrier,totalStorageSpaceInBytes,userDisplayName,userId,userPrincipalName,wiFiMacAddress\r\n"
     ]
    }
   ],
   "source": [
    "!cat outputfile.csv"
   ]
  },
  {
   "cell_type": "code",
   "execution_count": 41,
   "metadata": {},
   "outputs": [
    {
     "name": "stdout",
     "output_type": "stream",
     "text": [
      "\n",
      "Usage: python json_to_csv.py <node> <json_in_file_path> <csv_out_file_path>\n",
      "\n"
     ]
    }
   ],
   "source": [
    "import sys\n",
    "import json\n",
    "import csv\n",
    "\n",
    "##\n",
    "# Convert to string keeping encoding in mind...\n",
    "##\n",
    "def to_string(s):\n",
    "    try:\n",
    "        return str(s)\n",
    "    except:\n",
    "        #Change the encoding type if needed\n",
    "        return s.encode('utf-8')\n",
    "\n",
    "\n",
    "##\n",
    "# This function converts an item like \n",
    "# {\n",
    "#   \"item_1\":\"value_11\",\n",
    "#   \"item_2\":\"value_12\",\n",
    "#   \"item_3\":\"value_13\",\n",
    "#   \"item_4\":[\"sub_value_14\", \"sub_value_15\"],\n",
    "#   \"item_5\":{\n",
    "#       \"sub_item_1\":\"sub_item_value_11\",\n",
    "#       \"sub_item_2\":[\"sub_item_value_12\", \"sub_item_value_13\"]\n",
    "#   }\n",
    "# }\n",
    "# To\n",
    "# {\n",
    "#   \"node_item_1\":\"value_11\",\n",
    "#   \"node_item_2\":\"value_12\",\n",
    "#   \"node_item_3\":\"value_13\",\n",
    "#   \"node_item_4_0\":\"sub_value_14\", \n",
    "#   \"node_item_4_1\":\"sub_value_15\",\n",
    "#   \"node_item_5_sub_item_1\":\"sub_item_value_11\",\n",
    "#   \"node_item_5_sub_item_2_0\":\"sub_item_value_12\",\n",
    "#   \"node_item_5_sub_item_2_0\":\"sub_item_value_13\"\n",
    "# }\n",
    "##\n",
    "def reduce_item(key, value):\n",
    "    global reduced_item\n",
    "    \n",
    "    #Reduction Condition 1\n",
    "    if type(value) is list:\n",
    "        i=0\n",
    "        for sub_item in value:\n",
    "            reduce_item(key+'_'+to_string(i), sub_item)\n",
    "            i=i+1\n",
    "\n",
    "    #Reduction Condition 2\n",
    "    elif type(value) is dict:\n",
    "        sub_keys = value.keys()\n",
    "        for sub_key in sub_keys:\n",
    "            reduce_item(key+'_'+to_string(sub_key), value[sub_key])\n",
    "    \n",
    "    #Base Condition\n",
    "    else:\n",
    "        reduced_item[to_string(key)] = to_string(value)\n",
    "\n",
    "\n",
    "if __name__ == \"__main__\":\n",
    "    if len(sys.argv) != 4:\n",
    "        print (\"\\nUsage: python json_to_csv.py <node> <json_in_file_path> <csv_out_file_path>\\n\")\n",
    "    else:\n",
    "        #Reading arguments\n",
    "        node = sys.argv[1]\n",
    "        json_file_path = sys.argv[2]\n",
    "        csv_file_path = sys.argv[3]\n",
    "\n",
    "        fp = open(json_file_path, 'r')\n",
    "        json_value = fp.read()\n",
    "        raw_data = json.loads(json_value)\n",
    "        fp.close()\n",
    "        \n",
    "        try:\n",
    "            data_to_be_processed = raw_data[node]\n",
    "        except:\n",
    "            data_to_be_processed = raw_data\n",
    "\n",
    "        processed_data = []\n",
    "        header = []\n",
    "        for item in data_to_be_processed:\n",
    "            reduced_item = {}\n",
    "            reduce_item(node, item)\n",
    "\n",
    "            header += reduced_item.keys()\n",
    "\n",
    "            processed_data.append(reduced_item)\n",
    "\n",
    "        header = list(set(header))\n",
    "        header.sort()\n",
    "\n",
    "        with open(csv_file_path, 'w+') as f:\n",
    "            writer = csv.DictWriter(f, header, quoting=csv.QUOTE_ALL)\n",
    "            writer.writeheader()\n",
    "            for row in processed_data:\n",
    "                writer.writerow(row)\n",
    "\n",
    "        print (\"Just completed writing csv file with %d columns\" % len(header))"
   ]
  },
  {
   "cell_type": "code",
   "execution_count": 86,
   "metadata": {},
   "outputs": [],
   "source": [
    "#https://www.idkrtm.com/converting-json-to-csv-and-back-again-using-python/\n",
    "\n",
    "import json\n",
    "import csv\n",
    "\n",
    "#read file\n",
    "with open('graph-out2.json', 'r') as jsonfile:\n",
    "  data=jsonfile.read()\n",
    " \n",
    "# parse file\n",
    "jsonobj = json.loads(data)\n",
    "#jsonobj = json.dumps(data)\n",
    " "
   ]
  },
  {
   "cell_type": "code",
   "execution_count": 90,
   "metadata": {},
   "outputs": [
    {
     "name": "stdout",
     "output_type": "stream",
     "text": [
      "{'@odata.context': 'https://graph.microsoft.com/v1.0/$metadata#deviceManagement/managedDevices/$entity', 'id': '7767e52c-badd-4858-b043-182b21dd1ab8', 'userId': '4f913b7e-8e46-438b-ac4d-7d445bff38e0', 'deviceName': 'HoloLens-EM12E', 'managedDeviceOwnerType': 'company', 'enrolledDateTime': '2020-04-14T18:17:12.7901685Z', 'lastSyncDateTime': '2020-06-02T20:45:24.770233Z', 'operatingSystem': 'Windows Holographic for Business', 'complianceState': 'compliant', 'jailBroken': 'Unknown', 'managementAgent': 'mdm', 'osVersion': '10.0.17763.1217', 'easActivated': False, 'easDeviceId': None, 'easActivationDateTime': '0001-01-01T00:00:00Z', 'azureADRegistered': True, 'deviceEnrollmentType': 'windowsAzureADJoin', 'activationLockBypassCode': None, 'emailAddress': 'hl-itc-mobility-007@chevron.com', 'azureADDeviceId': '950319dc-074e-49e4-8d88-4e9751fc562c', 'deviceRegistrationState': 'registered', 'deviceCategoryDisplayName': 'CVX_MANAGED_WINDOWS', 'isSupervised': False, 'exchangeLastSuccessfulSyncDateTime': '0001-01-01T00:00:00Z', 'exchangeAccessState': 'none', 'exchangeAccessStateReason': 'none', 'remoteAssistanceSessionUrl': '', 'remoteAssistanceSessionErrorDetails': '', 'isEncrypted': True, 'userPrincipalName': 'hl-itc-mobility-007@chevron.com', 'model': 'HoloLens', 'manufacturer': 'Microsoft Corporation', 'imei': None, 'complianceGracePeriodExpirationDateTime': '9999-12-31T23:59:59.9999999Z', 'serialNumber': '000077771556', 'phoneNumber': None, 'androidSecurityPatchLevel': None, 'userDisplayName': 'Service Account - hl-itc-mobility-007', 'configurationManagerClientEnabledFeatures': None, 'wiFiMacAddress': '949AA91FF990', 'deviceHealthAttestationState': None, 'subscriberCarrier': '', 'meid': None, 'totalStorageSpaceInBytes': -1890582528, 'freeStorageSpaceInBytes': 0, 'managedDeviceName': 'hl-itc-mobility-007_WindowsHolographic_4/14/2020_6:17 PM', 'partnerReportedThreatState': 'unknown', 'deviceActionResults': []}\n"
     ]
    }
   ],
   "source": [
    "#print(jsonobj)\n",
    "\n",
    "\n",
    "single_quoted_dict_in_string = str(jsonobj)\n",
    "\n",
    "desired_double_quoted_dict = eval(single_quoted_dict_in_string)\n",
    "# Go ahead, now you can convert it into json easily\n",
    "print(desired_double_quoted_dict)\n",
    "\n",
    "#"
   ]
  },
  {
   "cell_type": "code",
   "execution_count": 91,
   "metadata": {},
   "outputs": [
    {
     "ename": "KeyError",
     "evalue": "0",
     "output_type": "error",
     "traceback": [
      "\u001b[0;31m---------------------------------------------------------------------------\u001b[0m",
      "\u001b[0;31mKeyError\u001b[0m                                  Traceback (most recent call last)",
      "\u001b[0;32m<ipython-input-91-2611208198c4>\u001b[0m in \u001b[0;36m<module>\u001b[0;34m\u001b[0m\n\u001b[1;32m      1\u001b[0m \u001b[0mkeylist\u001b[0m \u001b[0;34m=\u001b[0m \u001b[0;34m[\u001b[0m\u001b[0;34m]\u001b[0m\u001b[0;34m\u001b[0m\u001b[0;34m\u001b[0m\u001b[0m\n\u001b[0;32m----> 2\u001b[0;31m \u001b[0;32mfor\u001b[0m \u001b[0mkey\u001b[0m \u001b[0;32min\u001b[0m \u001b[0mjsonobj\u001b[0m\u001b[0;34m[\u001b[0m\u001b[0;36m0\u001b[0m\u001b[0;34m]\u001b[0m\u001b[0;34m:\u001b[0m\u001b[0;34m\u001b[0m\u001b[0;34m\u001b[0m\u001b[0m\n\u001b[0m\u001b[1;32m      3\u001b[0m   \u001b[0mkeylist\u001b[0m\u001b[0;34m.\u001b[0m\u001b[0mappend\u001b[0m\u001b[0;34m(\u001b[0m\u001b[0mkey\u001b[0m\u001b[0;34m)\u001b[0m\u001b[0;34m\u001b[0m\u001b[0;34m\u001b[0m\u001b[0m\n\u001b[1;32m      4\u001b[0m \u001b[0;34m\u001b[0m\u001b[0m\n",
      "\u001b[0;31mKeyError\u001b[0m: 0"
     ]
    }
   ],
   "source": [
    "keylist = []\n",
    "for key in jsonobj[0]:\n",
    "  keylist.append(key)\n",
    " "
   ]
  },
  {
   "cell_type": "code",
   "execution_count": null,
   "metadata": {},
   "outputs": [],
   "source": []
  }
 ],
 "metadata": {
  "kernelspec": {
   "display_name": "Python 3",
   "language": "python",
   "name": "python3"
  },
  "language_info": {
   "codemirror_mode": {
    "name": "ipython",
    "version": 3
   },
   "file_extension": ".py",
   "mimetype": "text/x-python",
   "name": "python",
   "nbconvert_exporter": "python",
   "pygments_lexer": "ipython3",
   "version": "3.8.1"
  }
 },
 "nbformat": 4,
 "nbformat_minor": 4
}
