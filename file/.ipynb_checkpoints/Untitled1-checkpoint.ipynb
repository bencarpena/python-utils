{
 "cells": [
  {
   "cell_type": "code",
   "execution_count": 6,
   "metadata": {},
   "outputs": [],
   "source": [
    "import pandas as pd\n",
    "df = pd.read_json (r'graph-out2.json')\n",
    "df.to_csv (r'graph-out2.csv', index = None)"
   ]
  },
  {
   "cell_type": "code",
   "execution_count": 7,
   "metadata": {},
   "outputs": [
    {
     "name": "stdout",
     "output_type": "stream",
     "text": [
      "@odata.context,id,userId,deviceName,managedDeviceOwnerType,enrolledDateTime,lastSyncDateTime,operatingSystem,complianceState,jailBroken,managementAgent,osVersion,easActivated,easDeviceId,easActivationDateTime,azureADRegistered,deviceEnrollmentType,activationLockBypassCode,emailAddress,azureADDeviceId,deviceRegistrationState,deviceCategoryDisplayName,isSupervised,exchangeLastSuccessfulSyncDateTime,exchangeAccessState,exchangeAccessStateReason,remoteAssistanceSessionUrl,remoteAssistanceSessionErrorDetails,isEncrypted,userPrincipalName,model,manufacturer,imei,complianceGracePeriodExpirationDateTime,serialNumber,phoneNumber,androidSecurityPatchLevel,userDisplayName,configurationManagerClientEnabledFeatures,wiFiMacAddress,deviceHealthAttestationState,subscriberCarrier,meid,totalStorageSpaceInBytes,freeStorageSpaceInBytes,managedDeviceName,partnerReportedThreatState,deviceActionResults\r\n"
     ]
    }
   ],
   "source": [
    "!cat graph-out2.csv"
   ]
  },
  {
   "cell_type": "code",
   "execution_count": 8,
   "metadata": {},
   "outputs": [
    {
     "name": "stdout",
     "output_type": "stream",
     "text": [
      "{\"@odata.context\":\"https://graph.microsoft.com/v1.0/$metadata#deviceManagement/managedDevices/$entity\",\"id\":\"7767e52c-badd-4858-b043-182b21dd1ab8\",\"userId\":\"4f913b7e-8e46-438b-ac4d-7d445bff38e0\",\"deviceName\":\"HoloLens-EM12E\",\"managedDeviceOwnerType\":\"company\",\"enrolledDateTime\":\"2020-04-14T18:17:12.7901685Z\",\"lastSyncDateTime\":\"2020-06-02T20:45:24.770233Z\",\"operatingSystem\":\"Windows Holographic for Business\",\"complianceState\":\"compliant\",\"jailBroken\":\"Unknown\",\"managementAgent\":\"mdm\",\"osVersion\":\"10.0.17763.1217\",\"easActivated\":false,\"easDeviceId\":null,\"easActivationDateTime\":\"0001-01-01T00:00:00Z\",\"azureADRegistered\":true,\"deviceEnrollmentType\":\"windowsAzureADJoin\",\"activationLockBypassCode\":null,\"emailAddress\":\"hl-itc-mobility-007@chevron.com\",\"azureADDeviceId\":\"950319dc-074e-49e4-8d88-4e9751fc562c\",\"deviceRegistrationState\":\"registered\",\"deviceCategoryDisplayName\":\"CVX_MANAGED_WINDOWS\",\"isSupervised\":false,\"exchangeLastSuccessfulSyncDateTime\":\"0001-01-01T00:00:00Z\",\"exchangeAccessState\":\"none\",\"exchangeAccessStateReason\":\"none\",\"remoteAssistanceSessionUrl\":\"\",\"remoteAssistanceSessionErrorDetails\":\"\",\"isEncrypted\":true,\"userPrincipalName\":\"hl-itc-mobility-007@chevron.com\",\"model\":\"HoloLens\",\"manufacturer\":\"Microsoft Corporation\",\"imei\":null,\"complianceGracePeriodExpirationDateTime\":\"9999-12-31T23:59:59.9999999Z\",\"serialNumber\":\"000077771556\",\"phoneNumber\":null,\"androidSecurityPatchLevel\":null,\"userDisplayName\":\"Service Account - hl-itc-mobility-007\",\"configurationManagerClientEnabledFeatures\":null,\"wiFiMacAddress\":\"949AA91FF990\",\"deviceHealthAttestationState\":null,\"subscriberCarrier\":\"\",\"meid\":null,\"totalStorageSpaceInBytes\":-1890582528,\"freeStorageSpaceInBytes\":0,\"managedDeviceName\":\"hl-itc-mobility-007_WindowsHolographic_4/14/2020_6:17 PM\",\"partnerReportedThreatState\":\"unknown\",\"deviceActionResults\":[]}"
     ]
    }
   ],
   "source": [
    "!cat graph-out2.json"
   ]
  },
  {
   "cell_type": "code",
   "execution_count": null,
   "metadata": {},
   "outputs": [],
   "source": []
  }
 ],
 "metadata": {
  "kernelspec": {
   "display_name": "Python 3",
   "language": "python",
   "name": "python3"
  },
  "language_info": {
   "codemirror_mode": {
    "name": "ipython",
    "version": 3
   },
   "file_extension": ".py",
   "mimetype": "text/x-python",
   "name": "python",
   "nbconvert_exporter": "python",
   "pygments_lexer": "ipython3",
   "version": "3.8.1"
  }
 },
 "nbformat": 4,
 "nbformat_minor": 4
}
