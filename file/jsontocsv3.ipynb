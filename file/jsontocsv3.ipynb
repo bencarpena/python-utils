{
 "cells": [
  {
   "cell_type": "code",
   "execution_count": 17,
   "metadata": {},
   "outputs": [
    {
     "name": "stdout",
     "output_type": "stream",
     "text": [
      "[]\n"
     ]
    }
   ],
   "source": [
    "import ijson\n",
    "filename = \"graph-out.json\"\n",
    "with open(filename, 'r') as f:\n",
    "    objects = ijson.items(f, 'meta.view.columns.item')\n",
    "    columns = list(objects)\n",
    "\n",
    "print(columns)\n"
   ]
  },
  {
   "cell_type": "code",
   "execution_count": 15,
   "metadata": {},
   "outputs": [],
   "source": [
    "import json\n",
    "import pandas as pd\n",
    "\n",
    "# Read the data from file\n",
    "# We now have a Python dictionary\n",
    "with open('error.json') as f:\n",
    "    data_listofdict = json.load(f)\n",
    "    \n",
    "# We can do the same thing with pandas\n",
    "data_df = pd.read_json('error.json', orient='records')\n",
    "\n",
    "# We can write a dictionary to JSON like so\n",
    "# Use 'indent' and 'sort_keys' to make the JSON\n",
    "# file look nice\n",
    "with open('new_data.json', 'w+') as json_file:\n",
    "    json.dump(data_listofdict, json_file, indent=4, sort_keys=True)\n",
    "\n",
    "# And again the same thing with pandas\n",
    "export = data_df.to_json('new_data.json', orient='records')\n",
    "\n"
   ]
  },
  {
   "cell_type": "code",
   "execution_count": 16,
   "metadata": {},
   "outputs": [
    {
     "name": "stdout",
     "output_type": "stream",
     "text": [
      "[{\"error\":\"InvalidAuthenticationToken\"},{\"error\":{\"request-id\":\"f6d08782-46b7-4c15-9c00-8f751c705efc\",\"date\":\"2020-06-02T22:26:53\"}},{\"error\":\"Access token has expired.\"}]"
     ]
    }
   ],
   "source": [
    "!cat new_data.json"
   ]
  },
  {
   "cell_type": "code",
   "execution_count": null,
   "metadata": {},
   "outputs": [],
   "source": []
  }
 ],
 "metadata": {
  "kernelspec": {
   "display_name": "Python 3",
   "language": "python",
   "name": "python3"
  },
  "language_info": {
   "codemirror_mode": {
    "name": "ipython",
    "version": 3
   },
   "file_extension": ".py",
   "mimetype": "text/x-python",
   "name": "python",
   "nbconvert_exporter": "python",
   "pygments_lexer": "ipython3",
   "version": "3.8.1"
  }
 },
 "nbformat": 4,
 "nbformat_minor": 4
}
