{
 "cells": [
  {
   "cell_type": "code",
   "execution_count": 6,
   "metadata": {},
   "outputs": [],
   "source": [
    "import pandas as pd\n",
    "import numpy as np"
   ]
  },
  {
   "cell_type": "markdown",
   "metadata": {},
   "source": [
    "## Sampling the Distribution"
   ]
  },
  {
   "cell_type": "code",
   "execution_count": 7,
   "metadata": {},
   "outputs": [
    {
     "name": "stdout",
     "output_type": "stream",
     "text": [
      "2 attempts of reverse engineering in 5.0 years\n"
     ]
    }
   ],
   "source": [
    "#Sampling the Distribution (reverse engineering of public apps)\n",
    "#==============================================================================\n",
    "\n",
    "# Simulation : \n",
    "'''    \n",
    "There is 0.08% chance an app will be reverse engineered or affected by PHAs \n",
    "How many incidents are we looking at in 5 years?\n",
    "Figure is derived from Android Security report 2018\n",
    "https://source.android.com/security/reports/Google_Android_Security_2018_Report_Final.pdf'''\n",
    "\n",
    "chance_of_rev_eng = 0.0008\n",
    "\n",
    "reverse_eng = np.random.binomial(1, chance_of_rev_eng, 1825)\n",
    "    \n",
    "apps_reverse_eng = 0\n",
    "\n",
    "for i in range(1, len(reverse_eng)-1 ):\n",
    "    if reverse_eng[i]==1:\n",
    "        apps_reverse_eng += 1\n",
    "\n",
    "print('{} attempts of reverse engineering in {} years'.format(apps_reverse_eng, 1825/365))"
   ]
  },
  {
   "cell_type": "code",
   "execution_count": 5,
   "metadata": {},
   "outputs": [
    {
     "name": "stdout",
     "output_type": "stream",
     "text": [
      "64 apps being reverse engineered back to back in 2739.72602739726 years\n"
     ]
    }
   ],
   "source": [
    "#Sampling the Distribution (reverse engineering of public apps 2 days back to back)\n",
    "#====================================================================================\n",
    "\n",
    "chance_of_rev_eng = 0.008  #.1% as an example\n",
    "\n",
    "reverse_eng = np.random.binomial(1, chance_of_rev_eng, 1000000)\n",
    "    \n",
    "two_days_in_a_row = 0\n",
    "\n",
    "for i in range(1,len(reverse_eng)-1):\n",
    "    if reverse_eng[i]==1 and reverse_eng[i-1]==1:\n",
    "        two_days_in_a_row += 1\n",
    "\n",
    "print('{} apps being reverse engineered back to back in {} years'.format(two_days_in_a_row, 1000000/365))"
   ]
  },
  {
   "cell_type": "code",
   "execution_count": 55,
   "metadata": {},
   "outputs": [
    {
     "name": "stdout",
     "output_type": "stream",
     "text": [
      "[0 0 0 ... 0 0 0]\n"
     ]
    }
   ],
   "source": [
    "chance_of_rev_eng = 0.008  \n",
    "\n",
    "reverse_eng = np.random.binomial(1, chance_of_rev_eng, 1825)\n",
    "\n",
    "print(reverse_eng)"
   ]
  },
  {
   "cell_type": "code",
   "execution_count": null,
   "metadata": {},
   "outputs": [],
   "source": [
    "#Sampling the Distribution (reverse engineering of public apps outside of Google Play Protect)\n",
    "#==============================================================================================\n",
    "\n",
    "# Synopsis : \n",
    "#    There is (0.08%) x 8 chance an app will be reverse engineered or affected by PHAs.\n",
    "#    How many incidents are we looking at in 5 years?\n",
    "#    Figure is derived from Android Security report 2018\n",
    "#      https://source.android.com/security/reports/Google_Android_Security_2018_Report_Final.pdf\n",
    "\n",
    "chance_of_rev_eng = 0.0064 #installed without Google Play Protect\n",
    "\n",
    "reverse_eng = np.random.binomial(1, chance_of_rev_eng, 1825)\n",
    "    \n",
    "apps_reverse_eng = 0\n",
    "\n",
    "for i in range(1, len(reverse_eng)-1 ):\n",
    "    if reverse_eng[i]==1:\n",
    "        apps_reverse_eng += 1\n",
    "\n",
    "print('{} attempts of reverse engineering in {} years'.format(apps_reverse_eng, 1825/365))"
   ]
  },
  {
   "cell_type": "code",
   "execution_count": null,
   "metadata": {},
   "outputs": [],
   "source": []
  }
 ],
 "metadata": {
  "kernelspec": {
   "display_name": "Python 3",
   "language": "python",
   "name": "python3"
  },
  "language_info": {
   "codemirror_mode": {
    "name": "ipython",
    "version": 3
   },
   "file_extension": ".py",
   "mimetype": "text/x-python",
   "name": "python",
   "nbconvert_exporter": "python",
   "pygments_lexer": "ipython3",
   "version": "3.8.1"
  }
 },
 "nbformat": 4,
 "nbformat_minor": 4
}
