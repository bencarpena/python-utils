{
 "cells": [
  {
   "cell_type": "code",
   "execution_count": 2,
   "metadata": {},
   "outputs": [],
   "source": [
    "import pandas as pd\n",
    "import numpy as np"
   ]
  },
  {
   "cell_type": "markdown",
   "metadata": {},
   "source": [
    "## Sampling the Distribution"
   ]
  },
  {
   "cell_type": "code",
   "execution_count": 3,
   "metadata": {},
   "outputs": [
    {
     "name": "stdout",
     "output_type": "stream",
     "text": [
      "1 attempts of reverse engineering in 5.0 years\n"
     ]
    }
   ],
   "source": [
    "#Sampling the Distribution (reverse engineering of public apps)\n",
    "#==============================================================================\n",
    "\n",
    "# Simulation : \n",
    "'''    \n",
    "There is 0.08% chance an app will be reverse engineered or affected by PHAs \n",
    "How many incidents are we looking at in 5 years?\n",
    "Figure is derived from Android Security report 2018\n",
    "https://source.android.com/security/reports/Google_Android_Security_2018_Report_Final.pdf'''\n",
    "\n",
    "chance_of_rev_eng = 0.0008\n",
    "\n",
    "reverse_eng = np.random.binomial(1, chance_of_rev_eng, 1825)\n",
    "    \n",
    "apps_reverse_eng = 0\n",
    "\n",
    "for i in range(1, len(reverse_eng)-1 ):\n",
    "    if reverse_eng[i]==1:\n",
    "        apps_reverse_eng += 1\n",
    "\n",
    "print('{} attempts of reverse engineering in {} years'.format(apps_reverse_eng, 1825/365))"
   ]
  },
  {
   "cell_type": "code",
   "execution_count": 4,
   "metadata": {},
   "outputs": [
    {
     "name": "stdout",
     "output_type": "stream",
     "text": [
      "51 back-to-back attempts of reverse engineering in 2739.72602739726 years\n"
     ]
    }
   ],
   "source": [
    "#Sampling the Distribution (reverse engineering of public apps 2 days back to back)\n",
    "#====================================================================================\n",
    "\n",
    "chance_of_rev_eng = 0.008  #.1% as an example\n",
    "\n",
    "reverse_eng = np.random.binomial(1, chance_of_rev_eng, 1000000)\n",
    "    \n",
    "two_days_in_a_row = 0\n",
    "\n",
    "for i in range(1,len(reverse_eng)-1):\n",
    "    if reverse_eng[i]==1 and reverse_eng[i-1]==1:\n",
    "        two_days_in_a_row += 1\n",
    "\n",
    "print('{} back-to-back attempts of reverse engineering in {} years'.format(two_days_in_a_row, 1000000/365))"
   ]
  },
  {
   "cell_type": "code",
   "execution_count": 5,
   "metadata": {},
   "outputs": [
    {
     "name": "stdout",
     "output_type": "stream",
     "text": [
      "[0 0 0 ... 0 0 0]\n"
     ]
    }
   ],
   "source": [
    "chance_of_rev_eng = 0.008  \n",
    "\n",
    "reverse_eng = np.random.binomial(1, chance_of_rev_eng, 1825)\n",
    "\n",
    "print(reverse_eng)"
   ]
  },
  {
   "cell_type": "code",
   "execution_count": 6,
   "metadata": {},
   "outputs": [
    {
     "name": "stdout",
     "output_type": "stream",
     "text": [
      "13 attempts of reverse engineering in 5.0 years\n"
     ]
    }
   ],
   "source": [
    "#Sampling the Distribution (reverse engineering of public apps outside of Google Play Protect)\n",
    "#==============================================================================================\n",
    "\n",
    "# Synopsis : \n",
    "#    There is (0.08%) x 8 chance an app will be reverse engineered or affected by PHAs.\n",
    "#    How many incidents are we looking at in 5 years?\n",
    "#    Figure is derived from Android Security report 2018\n",
    "#      https://source.android.com/security/reports/Google_Android_Security_2018_Report_Final.pdf\n",
    "\n",
    "chance_of_rev_eng = 0.0064 #installed without Google Play Protect\n",
    "\n",
    "reverse_eng = np.random.binomial(1, chance_of_rev_eng, 1825)\n",
    "    \n",
    "apps_reverse_eng = 0\n",
    "\n",
    "for i in range(1, len(reverse_eng)-1 ):\n",
    "    if reverse_eng[i]==1:\n",
    "        apps_reverse_eng += 1\n",
    "\n",
    "print('{} attempts of reverse engineering in {} years'.format(apps_reverse_eng, 1825/365))"
   ]
  },
  {
   "cell_type": "code",
   "execution_count": 14,
   "metadata": {},
   "outputs": [
    {
     "name": "stdout",
     "output_type": "stream",
     "text": [
      "28 PHA encounters in 5.0 years\n"
     ]
    }
   ],
   "source": [
    "#Sampling the Distribution (user encountering a PHA)\n",
    "#==============================================================================\n",
    "\n",
    "# Simulation : \n",
    "'''    \n",
    "In 2018 only 0.08% of devices that used Google Play exclusively for app downloads were affected by PHAs. \n",
    "In contrast, devices that installed apps from outside of Google Play were affected by PHAs eight times more often.\n",
    "How many PHA encounters are we looking at in 5 years?\n",
    "\n",
    "Figure is derived from Android Security report 2018\n",
    "https://source.android.com/security/reports/Google_Android_Security_2018_Report_Final.pdf'''\n",
    "\n",
    "chance_of_PHA_encounter = 0.0008\n",
    "\n",
    "PHA_gotcha = np.random.binomial(20, chance_of_PHA_encounter, 1825)\n",
    "    \n",
    "PHA = 0\n",
    "\n",
    "for i in range(1, len(PHA_gotcha)-1 ):\n",
    "    if PHA_gotcha[i]>=1:\n",
    "        PHA += 1\n",
    "\n",
    "print('{} PHA encounters in {} years'.format(PHA, 1825/365))"
   ]
  },
  {
   "cell_type": "code",
   "execution_count": 12,
   "metadata": {},
   "outputs": [
    {
     "name": "stdout",
     "output_type": "stream",
     "text": [
      "363 PHA encounters in 1.0 years\n"
     ]
    }
   ],
   "source": [
    "chance_of_PHA_encounter = 0.0008\n",
    "\n",
    "PHA_gotcha = np.random.binomial(2000000, chance_of_PHA_encounter, 365)\n",
    "    \n",
    "PHA = 0\n",
    "\n",
    "for i in range(1, len(PHA_gotcha)-1 ):\n",
    "    if PHA_gotcha[i]>=1:\n",
    "        PHA += 1\n",
    "\n",
    "print('{} PHA encounters in {} years'.format(PHA, 365/365))"
   ]
  },
  {
   "cell_type": "code",
   "execution_count": 20,
   "metadata": {},
   "outputs": [
    {
     "data": {
      "image/png": "[encoded data removed]",
      "text/plain": [
       "<Figure size 432x288 with 1 Axes>"
      ]
     },
     "metadata": {
      "needs_background": "light"
     },
     "output_type": "display_data"
    }
   ],
   "source": [
    "from numpy import random\n",
    "import matplotlib.pyplot as plt\n",
    "import seaborn as sns\n",
    "\n",
    "sns.distplot(random.binomial(n=10, p=0.0008, size=1825), hist=True, kde=False)\n",
    "\n",
    "plt.show()"
   ]
  },
  {
   "cell_type": "code",
   "execution_count": null,
   "metadata": {},
   "outputs": [],
   "source": []
  }
 ],
 "metadata": {
  "kernelspec": {
   "display_name": "Python 3",
   "language": "python",
   "name": "python3"
  },
  "language_info": {
   "codemirror_mode": {
    "name": "ipython",
    "version": 3
   },
   "file_extension": ".py",
   "mimetype": "text/x-python",
   "name": "python",
   "nbconvert_exporter": "python",
   "pygments_lexer": "ipython3",
   "version": "3.8.1"
  }
 },
 "nbformat": 4,
 "nbformat_minor": 4
}
